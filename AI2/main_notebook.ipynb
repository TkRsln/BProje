{
 "cells": [
  {
   "cell_type": "code",
   "execution_count": 10,
   "metadata": {},
   "outputs": [],
   "source": [
    "# -*- coding: utf-8 -*-\n",
    "\"\"\"\n",
    "Created on Fri May  5 01:33:49 2023\n",
    "\n",
    "@author: utkua\n",
    "\"\"\"\n",
    "\n",
    "from models import AI_3 as AI_Model\n",
    "from dataset import ModelBaseTrainDataset\n",
    "import torch.nn as nn\n",
    "import torch\n",
    "import torchvision\n",
    "\n",
    "from tqdm import tqdm\n",
    "\n"
   ]
  },
  {
   "attachments": {},
   "cell_type": "markdown",
   "metadata": {},
   "source": [
    "## Train"
   ]
  },
  {
   "cell_type": "code",
   "execution_count": 3,
   "metadata": {},
   "outputs": [],
   "source": [
    "\n",
    "# Hyperparameters\n",
    "num_epochs = 10\n",
    "batch_size = 128\n",
    "learning_rate=0.01\n",
    "\n",
    "model = AI_Model()\n",
    "\n",
    "criterion = nn.MSELoss()\n",
    "optimizer = torch.optim.Adam(model.parameters(), lr=learning_rate)\n",
    "\n",
    "\n",
    "my_dataset = ModelBaseTrainDataset()\n",
    "my_dataloader = torch.utils.data.DataLoader(my_dataset, batch_size=batch_size, shuffle=True)\n",
    "\n"
   ]
  },
  {
   "cell_type": "code",
   "execution_count": 15,
   "metadata": {},
   "outputs": [
    {
     "name": "stderr",
     "output_type": "stream",
     "text": [
      "Main Process: 100%|██████████| 10/10 [50:30<00:00, 303.05s/it]\n"
     ]
    },
    {
     "name": "stdout",
     "output_type": "stream",
     "text": [
      "[ERROR] torch.Size([101, 1, 68, 53]) torch.Size([101, 256, 68, 53])\n",
      "[ERROR] torch.Size([101, 257, 68, 53])\n"
     ]
    },
    {
     "name": "stderr",
     "output_type": "stream",
     "text": []
    },
    {
     "name": "stdout",
     "output_type": "stream",
     "text": [
      "Epoch [1/10], Loss: 0.0780\n",
      "[ERROR] torch.Size([101, 1, 68, 53]) torch.Size([101, 256, 68, 53])\n",
      "[ERROR] torch.Size([101, 257, 68, 53])\n"
     ]
    },
    {
     "name": "stderr",
     "output_type": "stream",
     "text": []
    },
    {
     "name": "stdout",
     "output_type": "stream",
     "text": [
      "Epoch [2/10], Loss: 0.0695\n",
      "[ERROR] torch.Size([101, 1, 68, 53]) torch.Size([101, 256, 68, 53])\n",
      "[ERROR] torch.Size([101, 257, 68, 53])\n"
     ]
    },
    {
     "name": "stderr",
     "output_type": "stream",
     "text": []
    },
    {
     "name": "stdout",
     "output_type": "stream",
     "text": [
      "Epoch [3/10], Loss: 0.0690\n",
      "[ERROR] torch.Size([101, 1, 68, 53]) torch.Size([101, 256, 68, 53])\n",
      "[ERROR] torch.Size([101, 257, 68, 53])\n"
     ]
    },
    {
     "name": "stderr",
     "output_type": "stream",
     "text": []
    },
    {
     "name": "stdout",
     "output_type": "stream",
     "text": [
      "Epoch [4/10], Loss: 0.0748\n",
      "[ERROR] torch.Size([101, 1, 68, 53]) torch.Size([101, 256, 68, 53])\n",
      "[ERROR] torch.Size([101, 257, 68, 53])\n"
     ]
    },
    {
     "name": "stderr",
     "output_type": "stream",
     "text": []
    },
    {
     "name": "stdout",
     "output_type": "stream",
     "text": [
      "Epoch [5/10], Loss: 0.0665\n",
      "[ERROR] torch.Size([101, 1, 68, 53]) torch.Size([101, 256, 68, 53])\n",
      "[ERROR] torch.Size([101, 257, 68, 53])\n"
     ]
    },
    {
     "name": "stderr",
     "output_type": "stream",
     "text": []
    },
    {
     "name": "stdout",
     "output_type": "stream",
     "text": [
      "Epoch [6/10], Loss: 0.0668\n",
      "[ERROR] torch.Size([101, 1, 68, 53]) torch.Size([101, 256, 68, 53])\n",
      "[ERROR] torch.Size([101, 257, 68, 53])\n"
     ]
    },
    {
     "name": "stderr",
     "output_type": "stream",
     "text": []
    },
    {
     "name": "stdout",
     "output_type": "stream",
     "text": [
      "Epoch [7/10], Loss: 0.0772\n",
      "[ERROR] torch.Size([101, 1, 68, 53]) torch.Size([101, 256, 68, 53])\n",
      "[ERROR] torch.Size([101, 257, 68, 53])\n"
     ]
    },
    {
     "name": "stderr",
     "output_type": "stream",
     "text": []
    },
    {
     "name": "stdout",
     "output_type": "stream",
     "text": [
      "Epoch [8/10], Loss: 0.0661\n",
      "[ERROR] torch.Size([101, 1, 68, 53]) torch.Size([101, 256, 68, 53])\n",
      "[ERROR] torch.Size([101, 257, 68, 53])\n"
     ]
    },
    {
     "name": "stderr",
     "output_type": "stream",
     "text": []
    },
    {
     "name": "stdout",
     "output_type": "stream",
     "text": [
      "Epoch [9/10], Loss: 0.0971\n",
      "[ERROR] torch.Size([101, 1, 68, 53]) torch.Size([101, 256, 68, 53])\n",
      "[ERROR] torch.Size([101, 257, 68, 53])\n",
      "Epoch [10/10], Loss: 0.1056\n"
     ]
    }
   ],
   "source": [
    "\n",
    "\n",
    "main_bar = tqdm(total=num_epochs,desc='Main Process')\n",
    "#sub_bar = tqdm(total=len(my_dataloader),desc='Sub Process')\n",
    "\n",
    "for epoch in range(num_epochs):\n",
    "    main_bar.update(1)\n",
    "    #sub_bar.reset()\n",
    "    for count,data in enumerate(my_dataloader):\n",
    "        #sub_bar.update(1)\n",
    "        input_data, output_img = data\n",
    "        if len(input_data)!=2:\n",
    "            print(input_data)\n",
    "        out = model(input_data[0],input_data[1])\n",
    "        loss = criterion(out, output_img)\n",
    "\n",
    "        optimizer.zero_grad()\n",
    "        loss.backward()\n",
    "        optimizer.step()\n",
    "    if (epoch+1)%1==0:\n",
    "        print('Epoch [{}/{}], Loss: {:.4f}'\n",
    "          .format(epoch+1, num_epochs, loss.item()))"
   ]
  },
  {
   "attachments": {},
   "cell_type": "markdown",
   "metadata": {},
   "source": [
    "## Testing"
   ]
  },
  {
   "cell_type": "code",
   "execution_count": 16,
   "metadata": {},
   "outputs": [
    {
     "name": "stdout",
     "output_type": "stream",
     "text": [
      "[ERROR] torch.Size([101, 1, 68, 53]) torch.Size([101, 256, 68, 53])\n",
      "[ERROR] torch.Size([101, 257, 68, 53])\n",
      "torch.Size([101, 3, 1090, 850])\n",
      "tensor([[[0.9804, 0.9804, 0.9804,  ..., 0.9804, 0.9804, 0.9804],\n",
      "         [0.9804, 0.9804, 0.9804,  ..., 0.9804, 0.9804, 0.9804],\n",
      "         [0.9804, 0.9804, 0.9804,  ..., 0.9804, 0.9804, 0.9804],\n",
      "         ...,\n",
      "         [0.9804, 0.9804, 0.9804,  ..., 0.9804, 0.9804, 0.9804],\n",
      "         [0.9804, 0.9804, 0.9804,  ..., 0.9804, 0.9804, 0.9804],\n",
      "         [0.9804, 0.9804, 0.9804,  ..., 0.9804, 0.9804, 0.9804]],\n",
      "\n",
      "        [[0.9804, 0.9804, 0.9804,  ..., 0.9804, 0.9804, 0.9804],\n",
      "         [0.9804, 0.9804, 0.9804,  ..., 0.9804, 0.9804, 0.9804],\n",
      "         [0.9804, 0.9804, 0.9804,  ..., 0.9804, 0.9804, 0.9804],\n",
      "         ...,\n",
      "         [0.9804, 0.9804, 0.9804,  ..., 0.9804, 0.9804, 0.9804],\n",
      "         [0.9804, 0.9804, 0.9804,  ..., 0.9804, 0.9804, 0.9804],\n",
      "         [0.9804, 0.9804, 0.9804,  ..., 0.9804, 0.9804, 0.9804]],\n",
      "\n",
      "        [[0.9804, 0.9804, 0.9804,  ..., 0.9804, 0.9804, 0.9804],\n",
      "         [0.9804, 0.9804, 0.9804,  ..., 0.9804, 0.9804, 0.9804],\n",
      "         [0.9804, 0.9804, 0.9804,  ..., 0.9804, 0.9804, 0.9804],\n",
      "         ...,\n",
      "         [0.9804, 0.9804, 0.9804,  ..., 0.9804, 0.9804, 0.9804],\n",
      "         [0.9804, 0.9804, 0.9804,  ..., 0.9804, 0.9804, 0.9804],\n",
      "         [0.9804, 0.9804, 0.9804,  ..., 0.9804, 0.9804, 0.9804]]])\n"
     ]
    },
    {
     "data": {
      "image/png": "[encoded data removed]",
      "text/plain": [
       "<Figure size 4000x200 with 1 Axes>"
      ]
     },
     "metadata": {},
     "output_type": "display_data"
    },
    {
     "data": {
      "image/png": "[encoded data removed]",
      "text/plain": [
       "<Figure size 4000x200 with 1 Axes>"
      ]
     },
     "metadata": {},
     "output_type": "display_data"
    },
    {
     "data": {
      "image/png": "[encoded data removed]",
      "text/plain": [
       "<Figure size 4000x200 with 1 Axes>"
      ]
     },
     "metadata": {},
     "output_type": "display_data"
    }
   ],
   "source": [
    "\n",
    "import matplotlib.pyplot as plt\n",
    "my_dataset = ModelBaseTrainDataset()\n",
    "my_dataloader = torch.utils.data.DataLoader(my_dataset, batch_size=batch_size, shuffle=True)\n",
    "with torch.no_grad():\n",
    "    for data in my_dataloader:\n",
    "        inp,outp = data\n",
    "        out = model(inp[0],inp[1])\n",
    "        #print('!','out:',_.shape,'input:',img.shape,'predict:',recon.shape)\n",
    "        break\n",
    "        \n",
    "print(inp[0].shape)\n",
    "n = min(inp[0].size(0), 20)\n",
    "#comparison = torch.cat([img[:n], recon[:n]])\n",
    "\n",
    "print(inp[0][1])\n",
    "comparison = inp[0][0]\n",
    "comparison = comparison.cpu()\n",
    "plt.figure(figsize=(n*2, 2))\n",
    "plt.imshow(torchvision.utils.make_grid(comparison, nrow=n).permute(1, 2, 0))\n",
    "plt.show()\n",
    "\n",
    "comparison = out[0]\n",
    "comparison = comparison.cpu()\n",
    "plt.figure(figsize=(n*2, 2))\n",
    "plt.imshow(torchvision.utils.make_grid(comparison, nrow=n).permute(1, 2, 0))\n",
    "plt.show()   \n",
    "\n",
    "comparison = outp[0]\n",
    "comparison = comparison.cpu()\n",
    "plt.figure(figsize=(n*2, 2))\n",
    "plt.imshow(torchvision.utils.make_grid(comparison, nrow=n).permute(1, 2, 0))\n",
    "plt.show()       \n"
   ]
  },
  {
   "cell_type": "code",
   "execution_count": 17,
   "metadata": {},
   "outputs": [
    {
     "data": {
      "image/png": "[encoded data removed]",
      "text/plain": [
       "<Figure size 4000x200 with 1 Axes>"
      ]
     },
     "metadata": {},
     "output_type": "display_data"
    },
    {
     "data": {
      "image/png": "[encoded data removed]",
      "text/plain": [
       "<Figure size 4000x200 with 1 Axes>"
      ]
     },
     "metadata": {},
     "output_type": "display_data"
    }
   ],
   "source": [
    "comparison = inp[0][0]\n",
    "comparison = comparison.cpu()\n",
    "plt.figure(figsize=(n*2, 2))\n",
    "plt.imshow(torchvision.utils.make_grid(comparison, nrow=n).permute(1, 2, 0))\n",
    "plt.show()\n",
    "\n",
    "comparison = out[0]\n",
    "comparison = comparison.cpu()\n",
    "plt.figure(figsize=(n*2, 2))\n",
    "plt.imshow(torchvision.utils.make_grid(comparison, nrow=n).permute(1, 2, 0))\n",
    "plt.show()      "
   ]
  },
  {
   "attachments": {},
   "cell_type": "markdown",
   "metadata": {},
   "source": [
    "###  ~Saves and Loads only the model parameters"
   ]
  },
  {
   "cell_type": "code",
   "execution_count": 19,
   "metadata": {},
   "outputs": [],
   "source": [
    "version=\"2\"\n",
    "\n",
    "torch.save(model.state_dict(), f'C:/Users/utkua/OneDrive/Masaüstü/AI/AI2/save/parameters_{version}')"
   ]
  },
  {
   "cell_type": "code",
   "execution_count": null,
   "metadata": {},
   "outputs": [],
   "source": [
    "version=\"2\"\n",
    "\n",
    "model = AI_Model()\n",
    "model.load_state_dict(torch.load(f'C:/Users/utkua/OneDrive/Masaüstü/AI/AI2/save/parameters_{version}'))"
   ]
  },
  {
   "attachments": {},
   "cell_type": "markdown",
   "metadata": {},
   "source": [
    "### ~For Saving / Loading Entire Model"
   ]
  },
  {
   "cell_type": "code",
   "execution_count": 9,
   "metadata": {},
   "outputs": [],
   "source": [
    "torch.save(model, 'C:/Users/utkua/OneDrive/Masaüstü/AI/AI2/save/AI_2/entire_model')"
   ]
  },
  {
   "cell_type": "code",
   "execution_count": null,
   "metadata": {},
   "outputs": [],
   "source": [
    "model = torch.load('C:/Users/utkua/OneDrive/Masaüstü/AI/AI2/save/AI_2/entire_model')"
   ]
  }
 ],
 "metadata": {
  "kernelspec": {
   "display_name": "base",
   "language": "python",
   "name": "python3"
  },
  "language_info": {
   "codemirror_mode": {
    "name": "ipython",
    "version": 3
   },
   "file_extension": ".py",
   "mimetype": "text/x-python",
   "name": "python",
   "nbconvert_exporter": "python",
   "pygments_lexer": "ipython3",
   "version": "3.9.13"
  },
  "orig_nbformat": 4
 },
 "nbformat": 4,
 "nbformat_minor": 2
}
